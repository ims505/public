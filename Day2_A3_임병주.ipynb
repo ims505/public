{
  "nbformat": 4,
  "nbformat_minor": 0,
  "metadata": {
    "colab": {
      "provenance": [],
      "toc_visible": true,
      "authorship_tag": "ABX9TyO1+8BSIM99tMbiUK2gHesK",
      "include_colab_link": true
    },
    "kernelspec": {
      "name": "python3",
      "display_name": "Python 3"
    },
    "language_info": {
      "name": "python"
    }
  },
  "cells": [
    {
      "cell_type": "markdown",
      "metadata": {
        "id": "view-in-github",
        "colab_type": "text"
      },
      "source": [
        "<a href=\"https://colab.research.google.com/github/ims505/public/blob/main/Day2_A3_%EC%9E%84%EB%B3%91%EC%A3%BC.ipynb\" target=\"_parent\"><img src=\"https://colab.research.google.com/assets/colab-badge.svg\" alt=\"Open In Colab\"/></a>"
      ]
    },
    {
      "cell_type": "code",
      "execution_count": 4,
      "metadata": {
        "colab": {
          "base_uri": "https://localhost:8080/"
        },
        "id": "qM2-np-3QQiK",
        "outputId": "ccf409d0-0d70-4764-e255-2820d337013e"
      },
      "outputs": [
        {
          "output_type": "stream",
          "name": "stdout",
          "text": [
            "Hello, Colab!\n",
            "pyton 데이터 분석을 시작합니다.\n"
          ]
        }
      ],
      "source": [
        "print(\"Hello, Colab!\")\n",
        "print(\"pyton 데이터 분석을 시작합니다.\")"
      ]
    },
    {
      "cell_type": "code",
      "source": [
        "#변수선언\n",
        "name = '데이터 분석가'\n",
        "print(f\"안녕하세요, {name}님\")"
      ],
      "metadata": {
        "colab": {
          "base_uri": "https://localhost:8080/"
        },
        "id": "GKUkYp7dT7fM",
        "outputId": "c3e3005c-7044-42e5-f93a-b8d0c620adde"
      },
      "execution_count": 6,
      "outputs": [
        {
          "output_type": "stream",
          "name": "stdout",
          "text": [
            "안녕하세요, 데이터 분석가님\n"
          ]
        }
      ]
    },
    {
      "cell_type": "code",
      "source": [
        "# 간단한 계산\n",
        "result = 10 + 20"
      ],
      "metadata": {
        "id": "RBKcOUaqUDVN"
      },
      "execution_count": 7,
      "outputs": []
    }
  ]
}